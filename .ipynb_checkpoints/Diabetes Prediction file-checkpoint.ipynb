{
 "cells": [
  {
   "cell_type": "code",
   "execution_count": 1,
   "id": "7d0afb15",
   "metadata": {},
   "outputs": [],
   "source": [
    "import numpy as np\n",
    "import pandas as pd\n",
    "import seaborn as sns\n",
    "import matplotlib.pyplot as plt"
   ]
  },
  {
   "cell_type": "markdown",
   "id": "0d7f7b18",
   "metadata": {},
   "source": [
    "# read the dataset"
   ]
  },
  {
   "cell_type": "code",
   "execution_count": 2,
   "id": "3a6bf1a9",
   "metadata": {},
   "outputs": [],
   "source": [
    "data=pd.read_csv('merge.csv')"
   ]
  },
  {
   "cell_type": "markdown",
   "id": "445668b8",
   "metadata": {},
   "source": [
    "# analyze the dataset"
   ]
  },
  {
   "cell_type": "code",
   "execution_count": 3,
   "id": "65a33537",
   "metadata": {},
   "outputs": [
    {
     "name": "stdout",
     "output_type": "stream",
     "text": [
      "<class 'pandas.core.frame.DataFrame'>\n",
      "RangeIndex: 578052 entries, 0 to 578051\n",
      "Data columns (total 22 columns):\n",
      " #   Column                Non-Null Count   Dtype\n",
      "---  ------                --------------   -----\n",
      " 0   Diabetes              578052 non-null  int64\n",
      " 1   HighBP                578052 non-null  int64\n",
      " 2   HighChol              578052 non-null  int64\n",
      " 3   CholCheck             578052 non-null  int64\n",
      " 4   BMI                   578052 non-null  int64\n",
      " 5   Smoker                578052 non-null  int64\n",
      " 6   Stroke                578052 non-null  int64\n",
      " 7   HeartDiseaseorAttack  578052 non-null  int64\n",
      " 8   PhysActivity          578052 non-null  int64\n",
      " 9   Fruits                578052 non-null  int64\n",
      " 10  Veggies               578052 non-null  int64\n",
      " 11  HvyAlcoholConsump     578052 non-null  int64\n",
      " 12  AnyHealthcare         578052 non-null  int64\n",
      " 13  NoDocbcCost           578052 non-null  int64\n",
      " 14  GenHlth               578052 non-null  int64\n",
      " 15  MentHlth              578052 non-null  int64\n",
      " 16  PhysHlth              578052 non-null  int64\n",
      " 17  DiffWalk              578052 non-null  int64\n",
      " 18  Sex                   578052 non-null  int64\n",
      " 19  Age                   578052 non-null  int64\n",
      " 20  Education             578052 non-null  int64\n",
      " 21  Income                578052 non-null  int64\n",
      "dtypes: int64(22)\n",
      "memory usage: 97.0 MB\n"
     ]
    }
   ],
   "source": [
    "data.info()"
   ]
  },
  {
   "cell_type": "code",
   "execution_count": 4,
   "id": "f98e2930",
   "metadata": {},
   "outputs": [
    {
     "data": {
      "text/plain": [
       "Index(['Diabetes', 'HighBP', 'HighChol', 'CholCheck', 'BMI', 'Smoker',\n",
       "       'Stroke', 'HeartDiseaseorAttack', 'PhysActivity', 'Fruits', 'Veggies',\n",
       "       'HvyAlcoholConsump', 'AnyHealthcare', 'NoDocbcCost', 'GenHlth',\n",
       "       'MentHlth', 'PhysHlth', 'DiffWalk', 'Sex', 'Age', 'Education',\n",
       "       'Income'],\n",
       "      dtype='object')"
      ]
     },
     "execution_count": 4,
     "metadata": {},
     "output_type": "execute_result"
    }
   ],
   "source": [
    "data.columns"
   ]
  },
  {
   "cell_type": "code",
   "execution_count": 5,
   "id": "b324f156",
   "metadata": {},
   "outputs": [
    {
     "data": {
      "text/html": [
       "<div>\n",
       "<style scoped>\n",
       "    .dataframe tbody tr th:only-of-type {\n",
       "        vertical-align: middle;\n",
       "    }\n",
       "\n",
       "    .dataframe tbody tr th {\n",
       "        vertical-align: top;\n",
       "    }\n",
       "\n",
       "    .dataframe thead th {\n",
       "        text-align: right;\n",
       "    }\n",
       "</style>\n",
       "<table border=\"1\" class=\"dataframe\">\n",
       "  <thead>\n",
       "    <tr style=\"text-align: right;\">\n",
       "      <th></th>\n",
       "      <th>Diabetes</th>\n",
       "      <th>HighBP</th>\n",
       "      <th>HighChol</th>\n",
       "      <th>CholCheck</th>\n",
       "      <th>BMI</th>\n",
       "      <th>Smoker</th>\n",
       "      <th>Stroke</th>\n",
       "      <th>HeartDiseaseorAttack</th>\n",
       "      <th>PhysActivity</th>\n",
       "      <th>Fruits</th>\n",
       "      <th>...</th>\n",
       "      <th>AnyHealthcare</th>\n",
       "      <th>NoDocbcCost</th>\n",
       "      <th>GenHlth</th>\n",
       "      <th>MentHlth</th>\n",
       "      <th>PhysHlth</th>\n",
       "      <th>DiffWalk</th>\n",
       "      <th>Sex</th>\n",
       "      <th>Age</th>\n",
       "      <th>Education</th>\n",
       "      <th>Income</th>\n",
       "    </tr>\n",
       "  </thead>\n",
       "  <tbody>\n",
       "    <tr>\n",
       "      <th>count</th>\n",
       "      <td>578052.000000</td>\n",
       "      <td>578052.000000</td>\n",
       "      <td>578052.000000</td>\n",
       "      <td>578052.000000</td>\n",
       "      <td>578052.000000</td>\n",
       "      <td>578052.000000</td>\n",
       "      <td>578052.000000</td>\n",
       "      <td>578052.000000</td>\n",
       "      <td>578052.000000</td>\n",
       "      <td>578052.000000</td>\n",
       "      <td>...</td>\n",
       "      <td>578052.000000</td>\n",
       "      <td>578052.000000</td>\n",
       "      <td>578052.000000</td>\n",
       "      <td>578052.000000</td>\n",
       "      <td>578052.000000</td>\n",
       "      <td>578052.000000</td>\n",
       "      <td>578052.000000</td>\n",
       "      <td>578052.000000</td>\n",
       "      <td>578052.000000</td>\n",
       "      <td>578052.000000</td>\n",
       "    </tr>\n",
       "    <tr>\n",
       "      <th>mean</th>\n",
       "      <td>0.252598</td>\n",
       "      <td>0.445444</td>\n",
       "      <td>0.436544</td>\n",
       "      <td>0.964209</td>\n",
       "      <td>28.562700</td>\n",
       "      <td>0.447095</td>\n",
       "      <td>0.043212</td>\n",
       "      <td>0.100744</td>\n",
       "      <td>0.750000</td>\n",
       "      <td>0.631509</td>\n",
       "      <td>...</td>\n",
       "      <td>0.951530</td>\n",
       "      <td>0.085368</td>\n",
       "      <td>2.551222</td>\n",
       "      <td>3.254145</td>\n",
       "      <td>4.433878</td>\n",
       "      <td>0.178558</td>\n",
       "      <td>0.442379</td>\n",
       "      <td>8.099617</td>\n",
       "      <td>5.034599</td>\n",
       "      <td>6.010392</td>\n",
       "    </tr>\n",
       "    <tr>\n",
       "      <th>std</th>\n",
       "      <td>0.557751</td>\n",
       "      <td>0.497015</td>\n",
       "      <td>0.495957</td>\n",
       "      <td>0.185769</td>\n",
       "      <td>6.689993</td>\n",
       "      <td>0.497194</td>\n",
       "      <td>0.203335</td>\n",
       "      <td>0.300989</td>\n",
       "      <td>0.433013</td>\n",
       "      <td>0.482396</td>\n",
       "      <td>...</td>\n",
       "      <td>0.214757</td>\n",
       "      <td>0.279428</td>\n",
       "      <td>1.079378</td>\n",
       "      <td>7.509915</td>\n",
       "      <td>8.908079</td>\n",
       "      <td>0.382982</td>\n",
       "      <td>0.496669</td>\n",
       "      <td>3.035618</td>\n",
       "      <td>0.992077</td>\n",
       "      <td>2.087400</td>\n",
       "    </tr>\n",
       "    <tr>\n",
       "      <th>min</th>\n",
       "      <td>0.000000</td>\n",
       "      <td>0.000000</td>\n",
       "      <td>0.000000</td>\n",
       "      <td>0.000000</td>\n",
       "      <td>12.000000</td>\n",
       "      <td>0.000000</td>\n",
       "      <td>0.000000</td>\n",
       "      <td>0.000000</td>\n",
       "      <td>0.000000</td>\n",
       "      <td>0.000000</td>\n",
       "      <td>...</td>\n",
       "      <td>0.000000</td>\n",
       "      <td>0.000000</td>\n",
       "      <td>1.000000</td>\n",
       "      <td>0.000000</td>\n",
       "      <td>0.000000</td>\n",
       "      <td>0.000000</td>\n",
       "      <td>0.000000</td>\n",
       "      <td>1.000000</td>\n",
       "      <td>1.000000</td>\n",
       "      <td>1.000000</td>\n",
       "    </tr>\n",
       "    <tr>\n",
       "      <th>25%</th>\n",
       "      <td>0.000000</td>\n",
       "      <td>0.000000</td>\n",
       "      <td>0.000000</td>\n",
       "      <td>1.000000</td>\n",
       "      <td>24.000000</td>\n",
       "      <td>0.000000</td>\n",
       "      <td>0.000000</td>\n",
       "      <td>0.000000</td>\n",
       "      <td>0.750000</td>\n",
       "      <td>0.000000</td>\n",
       "      <td>...</td>\n",
       "      <td>1.000000</td>\n",
       "      <td>0.000000</td>\n",
       "      <td>2.000000</td>\n",
       "      <td>0.000000</td>\n",
       "      <td>0.000000</td>\n",
       "      <td>0.000000</td>\n",
       "      <td>0.000000</td>\n",
       "      <td>6.000000</td>\n",
       "      <td>4.000000</td>\n",
       "      <td>5.000000</td>\n",
       "    </tr>\n",
       "    <tr>\n",
       "      <th>50%</th>\n",
       "      <td>0.000000</td>\n",
       "      <td>0.000000</td>\n",
       "      <td>0.000000</td>\n",
       "      <td>1.000000</td>\n",
       "      <td>27.000000</td>\n",
       "      <td>0.000000</td>\n",
       "      <td>0.000000</td>\n",
       "      <td>0.000000</td>\n",
       "      <td>1.000000</td>\n",
       "      <td>1.000000</td>\n",
       "      <td>...</td>\n",
       "      <td>1.000000</td>\n",
       "      <td>0.000000</td>\n",
       "      <td>2.000000</td>\n",
       "      <td>0.000000</td>\n",
       "      <td>0.000000</td>\n",
       "      <td>0.000000</td>\n",
       "      <td>0.000000</td>\n",
       "      <td>8.000000</td>\n",
       "      <td>5.000000</td>\n",
       "      <td>7.000000</td>\n",
       "    </tr>\n",
       "    <tr>\n",
       "      <th>75%</th>\n",
       "      <td>0.000000</td>\n",
       "      <td>1.000000</td>\n",
       "      <td>1.000000</td>\n",
       "      <td>1.000000</td>\n",
       "      <td>32.000000</td>\n",
       "      <td>1.000000</td>\n",
       "      <td>0.000000</td>\n",
       "      <td>0.000000</td>\n",
       "      <td>1.000000</td>\n",
       "      <td>1.000000</td>\n",
       "      <td>...</td>\n",
       "      <td>1.000000</td>\n",
       "      <td>0.000000</td>\n",
       "      <td>3.000000</td>\n",
       "      <td>2.000000</td>\n",
       "      <td>3.000000</td>\n",
       "      <td>0.000000</td>\n",
       "      <td>1.000000</td>\n",
       "      <td>10.000000</td>\n",
       "      <td>6.000000</td>\n",
       "      <td>8.000000</td>\n",
       "    </tr>\n",
       "    <tr>\n",
       "      <th>max</th>\n",
       "      <td>2.000000</td>\n",
       "      <td>1.000000</td>\n",
       "      <td>1.000000</td>\n",
       "      <td>1.000000</td>\n",
       "      <td>98.000000</td>\n",
       "      <td>1.000000</td>\n",
       "      <td>1.000000</td>\n",
       "      <td>1.000000</td>\n",
       "      <td>1.000000</td>\n",
       "      <td>1.000000</td>\n",
       "      <td>...</td>\n",
       "      <td>1.000000</td>\n",
       "      <td>1.000000</td>\n",
       "      <td>5.000000</td>\n",
       "      <td>30.000000</td>\n",
       "      <td>30.000000</td>\n",
       "      <td>1.000000</td>\n",
       "      <td>1.000000</td>\n",
       "      <td>13.000000</td>\n",
       "      <td>6.000000</td>\n",
       "      <td>8.000000</td>\n",
       "    </tr>\n",
       "  </tbody>\n",
       "</table>\n",
       "<p>8 rows × 22 columns</p>\n",
       "</div>"
      ],
      "text/plain": [
       "            Diabetes         HighBP       HighChol      CholCheck  \\\n",
       "count  578052.000000  578052.000000  578052.000000  578052.000000   \n",
       "mean        0.252598       0.445444       0.436544       0.964209   \n",
       "std         0.557751       0.497015       0.495957       0.185769   \n",
       "min         0.000000       0.000000       0.000000       0.000000   \n",
       "25%         0.000000       0.000000       0.000000       1.000000   \n",
       "50%         0.000000       0.000000       0.000000       1.000000   \n",
       "75%         0.000000       1.000000       1.000000       1.000000   \n",
       "max         2.000000       1.000000       1.000000       1.000000   \n",
       "\n",
       "                 BMI         Smoker         Stroke  HeartDiseaseorAttack  \\\n",
       "count  578052.000000  578052.000000  578052.000000         578052.000000   \n",
       "mean       28.562700       0.447095       0.043212              0.100744   \n",
       "std         6.689993       0.497194       0.203335              0.300989   \n",
       "min        12.000000       0.000000       0.000000              0.000000   \n",
       "25%        24.000000       0.000000       0.000000              0.000000   \n",
       "50%        27.000000       0.000000       0.000000              0.000000   \n",
       "75%        32.000000       1.000000       0.000000              0.000000   \n",
       "max        98.000000       1.000000       1.000000              1.000000   \n",
       "\n",
       "        PhysActivity         Fruits  ...  AnyHealthcare    NoDocbcCost  \\\n",
       "count  578052.000000  578052.000000  ...  578052.000000  578052.000000   \n",
       "mean        0.750000       0.631509  ...       0.951530       0.085368   \n",
       "std         0.433013       0.482396  ...       0.214757       0.279428   \n",
       "min         0.000000       0.000000  ...       0.000000       0.000000   \n",
       "25%         0.750000       0.000000  ...       1.000000       0.000000   \n",
       "50%         1.000000       1.000000  ...       1.000000       0.000000   \n",
       "75%         1.000000       1.000000  ...       1.000000       0.000000   \n",
       "max         1.000000       1.000000  ...       1.000000       1.000000   \n",
       "\n",
       "             GenHlth       MentHlth       PhysHlth       DiffWalk  \\\n",
       "count  578052.000000  578052.000000  578052.000000  578052.000000   \n",
       "mean        2.551222       3.254145       4.433878       0.178558   \n",
       "std         1.079378       7.509915       8.908079       0.382982   \n",
       "min         1.000000       0.000000       0.000000       0.000000   \n",
       "25%         2.000000       0.000000       0.000000       0.000000   \n",
       "50%         2.000000       0.000000       0.000000       0.000000   \n",
       "75%         3.000000       2.000000       3.000000       0.000000   \n",
       "max         5.000000      30.000000      30.000000       1.000000   \n",
       "\n",
       "                 Sex            Age      Education         Income  \n",
       "count  578052.000000  578052.000000  578052.000000  578052.000000  \n",
       "mean        0.442379       8.099617       5.034599       6.010392  \n",
       "std         0.496669       3.035618       0.992077       2.087400  \n",
       "min         0.000000       1.000000       1.000000       1.000000  \n",
       "25%         0.000000       6.000000       4.000000       5.000000  \n",
       "50%         0.000000       8.000000       5.000000       7.000000  \n",
       "75%         1.000000      10.000000       6.000000       8.000000  \n",
       "max         1.000000      13.000000       6.000000       8.000000  \n",
       "\n",
       "[8 rows x 22 columns]"
      ]
     },
     "execution_count": 5,
     "metadata": {},
     "output_type": "execute_result"
    }
   ],
   "source": [
    "data.describe()"
   ]
  },
  {
   "cell_type": "markdown",
   "id": "4e50c30a",
   "metadata": {},
   "source": [
    "# univariate"
   ]
  },
  {
   "cell_type": "code",
   "execution_count": 6,
   "id": "a65bb1a5",
   "metadata": {},
   "outputs": [
    {
     "data": {
      "text/plain": [
       "Text(0, 0.5, 'frequency')"
      ]
     },
     "execution_count": 6,
     "metadata": {},
     "output_type": "execute_result"
    },
    {
     "data": {
      "image/png": "[encoded data removed]",
      "text/plain": [
       "<Figure size 640x480 with 1 Axes>"
      ]
     },
     "metadata": {},
     "output_type": "display_data"
    }
   ],
   "source": [
    "data['Diabetes']\n",
    "plt.hist(data['Diabetes'])\n",
    "plt.xlabel('Diabetes')\n",
    "plt.ylabel('frequency')"
   ]
  },
  {
   "cell_type": "code",
   "execution_count": 7,
   "id": "fcb5a26d",
   "metadata": {},
   "outputs": [
    {
     "data": {
      "text/plain": [
       "0    467383\n",
       "1     75323\n",
       "2     35346\n",
       "Name: Diabetes, dtype: int64"
      ]
     },
     "execution_count": 7,
     "metadata": {},
     "output_type": "execute_result"
    }
   ],
   "source": [
    "# count plot \n",
    "data['Diabetes'].value_counts()"
   ]
  },
  {
   "cell_type": "code",
   "execution_count": 8,
   "id": "ce5672e6",
   "metadata": {},
   "outputs": [
    {
     "data": {
      "text/plain": [
       "Text(0, 0.5, 'Diabetes')"
      ]
     },
     "execution_count": 8,
     "metadata": {},
     "output_type": "execute_result"
    },
    {
     "data": {
      "image/png": "[encoded data removed]",
      "text/plain": [
       "<Figure size 640x480 with 1 Axes>"
      ]
     },
     "metadata": {},
     "output_type": "display_data"
    }
   ],
   "source": [
    "#box plot \n",
    "plt.boxplot(data['Diabetes'])\n",
    "plt.xlabel('avg range with outliers')\n",
    "plt.ylabel('Diabetes')"
   ]
  },
  {
   "cell_type": "code",
   "execution_count": 9,
   "id": "10cc5afe",
   "metadata": {},
   "outputs": [
    {
     "data": {
      "text/plain": [
       "([<matplotlib.patches.Wedge at 0x21163d768c0>,\n",
       "  <matplotlib.patches.Wedge at 0x21163d767d0>,\n",
       "  <matplotlib.patches.Wedge at 0x21163d775b0>],\n",
       " [Text(-0.9069595454402535, 0.62243423984772, ''),\n",
       "  Text(0.7714423731187712, -0.7841407175736245, ''),\n",
       "  Text(1.0797664313263668, -0.21001060397209165, '')],\n",
       " [Text(-0.4947052066037746, 0.33950958537148357, '80.85'),\n",
       "  Text(0.4207867489738752, -0.4277131186765224, '13.03'),\n",
       "  Text(0.5889635079962, -0.11455123853023179, '6.11')])"
      ]
     },
     "execution_count": 9,
     "metadata": {},
     "output_type": "execute_result"
    },
    {
     "data": {
      "image/png": "[encoded data removed]",
      "text/plain": [
       "<Figure size 640x480 with 1 Axes>"
      ]
     },
     "metadata": {},
     "output_type": "display_data"
    }
   ],
   "source": [
    "pi=data['Diabetes'].value_counts()\n",
    "pi\n",
    "plt.pie(pi,autopct='%.2f')"
   ]
  },
  {
   "cell_type": "code",
   "execution_count": 10,
   "id": "fc9f71bd",
   "metadata": {},
   "outputs": [
    {
     "data": {
      "image/png": "[encoded data removed]",
      "text/plain": [
       "<Figure size 640x480 with 1 Axes>"
      ]
     },
     "metadata": {},
     "output_type": "display_data"
    }
   ],
   "source": [
    "#bar plot\n",
    "data['Diabetes'].value_counts().plot(kind='bar')\n",
    "plt.xlabel('Diabetes')\n",
    "plt.ylabel('Count')\n",
    "plt.title('Bar Chart of Diabetes')\n",
    "plt.show()"
   ]
  },
  {
   "cell_type": "markdown",
   "id": "b644686f",
   "metadata": {},
   "source": [
    "# bivariate "
   ]
  },
  {
   "cell_type": "code",
   "execution_count": null,
   "id": "c2ba566d",
   "metadata": {},
   "outputs": [
    {
     "data": {
      "image/png": "[encoded data removed]",
      "text/plain": [
       "<Figure size 640x480 with 1 Axes>"
      ]
     },
     "metadata": {},
     "output_type": "display_data"
    }
   ],
   "source": [
    "# scatter plot\n",
    "\n",
    "plt.scatter(data['Diabetes'],data['HighBP'])\n",
    "plt.xlabel('Diabetes')\n",
    "plt.ylabel('HighBP')\n",
    "plt.show()\n",
    "plt.scatter(data['Diabetes'],data['BMI'])\n",
    "plt.xlabel('Diabetes')\n",
    "plt.ylabel('BMI')\n",
    "plt.show()\n"
   ]
  },
  {
   "cell_type": "markdown",
   "id": "fe1ba27a",
   "metadata": {},
   "source": [
    "# multivariate"
   ]
  },
  {
   "cell_type": "code",
   "execution_count": null,
   "id": "a1926554",
   "metadata": {},
   "outputs": [],
   "source": [
    "# heat map\n",
    "data.corr()\n",
    "hm=data.corr()"
   ]
  },
  {
   "cell_type": "code",
   "execution_count": null,
   "id": "5f58480c",
   "metadata": {},
   "outputs": [],
   "source": [
    "import seaborn as sb\n",
    "\n",
    "sb.heatmap(hm)\n"
   ]
  },
  {
   "cell_type": "markdown",
   "id": "ca7786a9",
   "metadata": {},
   "source": [
    "# drop  unnecessary columns"
   ]
  },
  {
   "cell_type": "code",
   "execution_count": null,
   "id": "a4d5bb02",
   "metadata": {},
   "outputs": [],
   "source": [
    "data.drop(columns=['Education','Income','DiffWalk','MentHlth','NoDocbcCost','AnyHealthcare'],inplace=True)"
   ]
  },
  {
   "cell_type": "markdown",
   "id": "e45c7ef3",
   "metadata": {},
   "source": [
    "# handle missing values"
   ]
  },
  {
   "cell_type": "code",
   "execution_count": null,
   "id": "f70c3a89",
   "metadata": {},
   "outputs": [],
   "source": [
    "data.isna()"
   ]
  },
  {
   "cell_type": "code",
   "execution_count": null,
   "id": "216cca2c",
   "metadata": {},
   "outputs": [],
   "source": [
    "data.isnull().any()"
   ]
  },
  {
   "cell_type": "code",
   "execution_count": null,
   "id": "80a26224",
   "metadata": {},
   "outputs": [],
   "source": [
    "data.isnull().sum()"
   ]
  },
  {
   "cell_type": "code",
   "execution_count": null,
   "id": "50a420a0",
   "metadata": {},
   "outputs": [],
   "source": [
    "valid_columns = data.select_dtypes(include=[np.number]).columns\n",
    "\n",
    "data[valid_columns] = data[valid_columns].fillna(data[valid_columns].mean())\n",
    "data"
   ]
  },
  {
   "cell_type": "markdown",
   "id": "0051fe95",
   "metadata": {},
   "source": [
    "# encoding"
   ]
  },
  {
   "cell_type": "code",
   "execution_count": null,
   "id": "6ed368dc",
   "metadata": {},
   "outputs": [],
   "source": [
    "from sklearn.preprocessing import LabelEncoder\n"
   ]
  },
  {
   "cell_type": "code",
   "execution_count": null,
   "id": "0213675c",
   "metadata": {},
   "outputs": [],
   "source": [
    "le=LabelEncoder()"
   ]
  },
  {
   "cell_type": "code",
   "execution_count": null,
   "id": "fe4f99ec",
   "metadata": {},
   "outputs": [],
   "source": [
    "data.Diabetes=le.fit_transform(data.Diabetes)"
   ]
  },
  {
   "cell_type": "code",
   "execution_count": null,
   "id": "0abafa9d",
   "metadata": {},
   "outputs": [],
   "source": [
    "data.BMI=le.fit_transform(data.BMI)"
   ]
  },
  {
   "cell_type": "code",
   "execution_count": null,
   "id": "8dfae854",
   "metadata": {},
   "outputs": [],
   "source": [
    "data_main=pd.get_dummies(data,columns=['BMI'])\n"
   ]
  },
  {
   "cell_type": "markdown",
   "id": "f5bf8305",
   "metadata": {},
   "source": [
    "# split the data into dependent and independent variables "
   ]
  },
  {
   "cell_type": "code",
   "execution_count": null,
   "id": "d51d2f24",
   "metadata": {},
   "outputs": [],
   "source": [
    "y=data_main['Diabetes']"
   ]
  },
  {
   "cell_type": "code",
   "execution_count": null,
   "id": "7c37a2bd",
   "metadata": {},
   "outputs": [],
   "source": [
    "x=data_main.drop(columns=['Diabetes'],axis=1)"
   ]
  },
  {
   "cell_type": "code",
   "execution_count": null,
   "id": "4dd7d5d1",
   "metadata": {},
   "outputs": [],
   "source": [
    "# scale the independent variables\n",
    "\n",
    "name=x.columns\n",
    "name"
   ]
  },
  {
   "cell_type": "code",
   "execution_count": null,
   "id": "413cc7cf",
   "metadata": {},
   "outputs": [],
   "source": [
    "from sklearn.preprocessing import MinMaxScaler"
   ]
  },
  {
   "cell_type": "code",
   "execution_count": null,
   "id": "5bfc9e10",
   "metadata": {},
   "outputs": [],
   "source": [
    "scale=MinMaxScaler()"
   ]
  },
  {
   "cell_type": "code",
   "execution_count": null,
   "id": "e3a85d05",
   "metadata": {},
   "outputs": [],
   "source": [
    "x_scaled=scale.fit_transform(x)"
   ]
  },
  {
   "cell_type": "code",
   "execution_count": null,
   "id": "3e0b31f5",
   "metadata": {},
   "outputs": [],
   "source": [
    "x_scaled"
   ]
  },
  {
   "cell_type": "code",
   "execution_count": null,
   "id": "c9d68c74",
   "metadata": {},
   "outputs": [],
   "source": [
    "x=pd.DataFrame(x_scaled,columns=name)"
   ]
  },
  {
   "cell_type": "markdown",
   "id": "736d4ad1",
   "metadata": {},
   "source": [
    "# split the data to train and test"
   ]
  },
  {
   "cell_type": "code",
   "execution_count": null,
   "id": "7fc4be69",
   "metadata": {},
   "outputs": [],
   "source": [
    "from sklearn.model_selection import train_test_split"
   ]
  },
  {
   "cell_type": "code",
   "execution_count": null,
   "id": "fc01065f",
   "metadata": {},
   "outputs": [],
   "source": [
    "x_train,x_test,y_train,y_test=train_test_split(x,y,test_size=0.2,random_state=42)"
   ]
  },
  {
   "cell_type": "markdown",
   "id": "49251f17",
   "metadata": {},
   "source": [
    "# MACHINE LEARNING ALGORITHM TO BUILD MODEL"
   ]
  },
  {
   "cell_type": "markdown",
   "id": "9a9f4ac0",
   "metadata": {},
   "source": [
    "# Models\n",
    "\n"
   ]
  },
  {
   "cell_type": "code",
   "execution_count": null,
   "id": "7c2a5142",
   "metadata": {},
   "outputs": [],
   "source": [
    "from sklearn.ensemble import RandomForestClassifier\n",
    "from sklearn.tree import DecisionTreeClassifier\n",
    "from sklearn.linear_model import LogisticRegression\n",
    "from sklearn.neighbors import KNeighborsClassifier\n",
    "from sklearn.svm import SVC"
   ]
  },
  {
   "cell_type": "markdown",
   "id": "561e3c2d",
   "metadata": {},
   "source": [
    "# LogisticRegression"
   ]
  },
  {
   "cell_type": "code",
   "execution_count": null,
   "id": "2c03dba6",
   "metadata": {},
   "outputs": [],
   "source": [
    "# Build an model (Logistic Regression)\n",
    "log_reg = LogisticRegression(random_state=0)"
   ]
  },
  {
   "cell_type": "code",
   "execution_count": null,
   "id": "dbfbd92a",
   "metadata": {},
   "outputs": [],
   "source": [
    "log_reg.fit(x_train,y_train);"
   ]
  },
  {
   "cell_type": "code",
   "execution_count": null,
   "id": "24cefb4f",
   "metadata": {},
   "outputs": [],
   "source": [
    "pred=log_reg.predict(x_test)"
   ]
  },
  {
   "cell_type": "code",
   "execution_count": null,
   "id": "5a9761ca",
   "metadata": {},
   "outputs": [],
   "source": [
    "pred1=log_reg.predict(x_train)"
   ]
  },
  {
   "cell_type": "code",
   "execution_count": null,
   "id": "eba56bd9",
   "metadata": {},
   "outputs": [],
   "source": [
    "from sklearn.metrics import accuracy_score,classification_report,confusion_matrix"
   ]
  },
  {
   "cell_type": "code",
   "execution_count": null,
   "id": "1d36adc1",
   "metadata": {},
   "outputs": [],
   "source": [
    "accuracy_score(y_train,pred1)"
   ]
  },
  {
   "cell_type": "code",
   "execution_count": null,
   "id": "6e5a9347",
   "metadata": {},
   "outputs": [],
   "source": [
    "accuracy_score(y_test,pred)"
   ]
  },
  {
   "cell_type": "code",
   "execution_count": null,
   "id": "ffedf159",
   "metadata": {},
   "outputs": [],
   "source": [
    "from sklearn.metrics import r2_score\n",
    "r2=r2_score(y_test,pred)\n",
    "r2"
   ]
  },
  {
   "cell_type": "code",
   "execution_count": null,
   "id": "7a8a5248",
   "metadata": {},
   "outputs": [],
   "source": [
    "confusion_matrix(y_test,pred)"
   ]
  },
  {
   "cell_type": "code",
   "execution_count": null,
   "id": "8879edc1",
   "metadata": {},
   "outputs": [],
   "source": [
    "print(classification_report(y_test,pred))"
   ]
  },
  {
   "cell_type": "markdown",
   "id": "79c12b7e",
   "metadata": {},
   "source": [
    "# KNeighborsClassifier"
   ]
  },
  {
   "cell_type": "code",
   "execution_count": null,
   "id": "7904eeaa",
   "metadata": {},
   "outputs": [],
   "source": [
    "knn=KNeighborsClassifier()\n",
    "knn.fit(x_train,y_train)"
   ]
  },
  {
   "cell_type": "code",
   "execution_count": null,
   "id": "3b086353",
   "metadata": {},
   "outputs": [],
   "source": [
    "pred=knn.predict(x_test)"
   ]
  },
  {
   "cell_type": "code",
   "execution_count": null,
   "id": "9bef7c0e",
   "metadata": {},
   "outputs": [],
   "source": [
    "from sklearn.metrics import accuracy_score,classification_report,confusion_matrix"
   ]
  },
  {
   "cell_type": "code",
   "execution_count": null,
   "id": "20096c91",
   "metadata": {},
   "outputs": [],
   "source": [
    "accuracy_score(y_test,pred)"
   ]
  },
  {
   "cell_type": "code",
   "execution_count": null,
   "id": "ae3e6094",
   "metadata": {},
   "outputs": [],
   "source": [
    "from sklearn.metrics import r2_score\n",
    "r2=r2_score(y_test,pred)\n",
    "r2"
   ]
  },
  {
   "cell_type": "code",
   "execution_count": null,
   "id": "61c3dd33",
   "metadata": {},
   "outputs": [],
   "source": [
    "confusion_matrix(y_test,pred)"
   ]
  },
  {
   "cell_type": "code",
   "execution_count": null,
   "id": "24895287",
   "metadata": {
    "scrolled": true
   },
   "outputs": [],
   "source": [
    "print(classification_report(y_test,pred))"
   ]
  },
  {
   "cell_type": "markdown",
   "id": "e08b9700",
   "metadata": {},
   "source": [
    "# DecisionTreeClassifier\n",
    "\n"
   ]
  },
  {
   "cell_type": "code",
   "execution_count": null,
   "id": "ddf86b2b",
   "metadata": {},
   "outputs": [],
   "source": [
    "from sklearn.decomposition import PCA\n",
    "# Apply PCA for dimensionality reduction\n",
    "n_components = 15  # Set the desired number of principal components\n",
    "pca = PCA(n_components=n_components)\n",
    "x_train_pca = pca.fit_transform(x_train)\n",
    "x_test_pca = pca.transform(x_test)"
   ]
  },
  {
   "cell_type": "code",
   "execution_count": null,
   "id": "06fefb75",
   "metadata": {},
   "outputs": [],
   "source": [
    "# Train the DecisionTreeClassifier on the reduced feature space\n",
    "dt_classifier = DecisionTreeClassifier()\n",
    "dt_classifier.fit(x_train_pca, y_train)"
   ]
  },
  {
   "cell_type": "code",
   "execution_count": null,
   "id": "f3b89ac2",
   "metadata": {},
   "outputs": [],
   "source": [
    "# Make predictions on the testing set\n",
    "y_pred = dt_classifier.predict(x_test_pca)"
   ]
  },
  {
   "cell_type": "code",
   "execution_count": null,
   "id": "84e40d6b",
   "metadata": {},
   "outputs": [],
   "source": [
    "df.fit(x_train,y_train)"
   ]
  },
  {
   "cell_type": "code",
   "execution_count": null,
   "id": "9a5afe9c",
   "metadata": {},
   "outputs": [],
   "source": [
    "y_pred = df.predict(x_test_pca)"
   ]
  },
  {
   "cell_type": "code",
   "execution_count": null,
   "id": "a93d6670",
   "metadata": {},
   "outputs": [],
   "source": [
    "from sklearn.metrics import accuracy_score,confusion_matrix,classification_report"
   ]
  },
  {
   "cell_type": "code",
   "execution_count": null,
   "id": "d4ccd79d",
   "metadata": {},
   "outputs": [],
   "source": [
    "# Evaluate the performance of the model\n",
    "accuracy = accuracy_score(y_test, y_pred)\n",
    "print(\"Accuracy:\", accuracy)"
   ]
  },
  {
   "cell_type": "code",
   "execution_count": null,
   "id": "00090016",
   "metadata": {},
   "outputs": [],
   "source": [
    "from sklearn.metrics import r2_score\n",
    "r2=r2_score(y_test,pred0)\n",
    "r2"
   ]
  },
  {
   "cell_type": "code",
   "execution_count": null,
   "id": "179910b7",
   "metadata": {},
   "outputs": [],
   "source": [
    "confusion_matrix(y_test,pred)"
   ]
  },
  {
   "cell_type": "code",
   "execution_count": null,
   "id": "a180475d",
   "metadata": {},
   "outputs": [],
   "source": [
    "print(classification_report(y_test,pred0))"
   ]
  },
  {
   "cell_type": "markdown",
   "id": "dceb5eb5",
   "metadata": {},
   "source": [
    "# NAIVE "
   ]
  },
  {
   "cell_type": "code",
   "execution_count": null,
   "id": "6d6e3910",
   "metadata": {},
   "outputs": [],
   "source": [
    "names=x.columns"
   ]
  },
  {
   "cell_type": "code",
   "execution_count": null,
   "id": "8bc92e08",
   "metadata": {},
   "outputs": [],
   "source": [
    "x=pd.DataFrame(x,columns=names)"
   ]
  },
  {
   "cell_type": "code",
   "execution_count": null,
   "id": "0dc0f556",
   "metadata": {},
   "outputs": [],
   "source": [
    "#Initializing the Naive Bayes model\n",
    "from sklearn.naive_bayes import GaussianNB\n",
    "nb=GaussianNB()"
   ]
  },
  {
   "cell_type": "code",
   "execution_count": null,
   "id": "ed07e594",
   "metadata": {},
   "outputs": [],
   "source": [
    "#Initializing the Naive Bayes model\n",
    "from sklearn.naive_bayes import GaussianNB\n",
    "nb=GaussianNB()"
   ]
  },
  {
   "cell_type": "code",
   "execution_count": null,
   "id": "6c94ae12",
   "metadata": {},
   "outputs": [],
   "source": [
    "nb.fit(x_train,y_train)"
   ]
  },
  {
   "cell_type": "code",
   "execution_count": null,
   "id": "95fd341e",
   "metadata": {},
   "outputs": [],
   "source": [
    "pred1=nb.predict(x_test)"
   ]
  },
  {
   "cell_type": "code",
   "execution_count": null,
   "id": "c3196acc",
   "metadata": {},
   "outputs": [],
   "source": [
    "from sklearn import metrics"
   ]
  },
  {
   "cell_type": "code",
   "execution_count": null,
   "id": "bfc022ea",
   "metadata": {},
   "outputs": [],
   "source": [
    "metrics.confusion_matrix(y_test,pred1)"
   ]
  },
  {
   "cell_type": "code",
   "execution_count": null,
   "id": "848eaa3a",
   "metadata": {},
   "outputs": [],
   "source": [
    "accuracy_score(y_test,pred1)"
   ]
  },
  {
   "cell_type": "code",
   "execution_count": null,
   "id": "84c2e38a",
   "metadata": {},
   "outputs": [],
   "source": [
    "from sklearn.metrics import r2_score\n",
    "r2=r2_score(y_test,pred1)\n",
    "r2"
   ]
  },
  {
   "cell_type": "markdown",
   "id": "67fffc9f",
   "metadata": {},
   "source": [
    "# RandomForestClassifier "
   ]
  },
  {
   "cell_type": "code",
   "execution_count": null,
   "id": "04f473f8",
   "metadata": {},
   "outputs": [],
   "source": [
    "rf=RandomForestClassifier(n_estimators=10,criterion='entropy',random_state=0)"
   ]
  },
  {
   "cell_type": "code",
   "execution_count": null,
   "id": "fb5ff5a7",
   "metadata": {},
   "outputs": [],
   "source": [
    "rf.fit(x_train,y_train)"
   ]
  },
  {
   "cell_type": "code",
   "execution_count": null,
   "id": "3d479e06",
   "metadata": {},
   "outputs": [],
   "source": [
    "pred5=rf.predict(x_test)"
   ]
  },
  {
   "cell_type": "code",
   "execution_count": null,
   "id": "2c21ad9d",
   "metadata": {},
   "outputs": [],
   "source": [
    "from sklearn.metrics import accuracy_score,confusion_matrix,classification_report"
   ]
  },
  {
   "cell_type": "code",
   "execution_count": null,
   "id": "1a1b4b14",
   "metadata": {},
   "outputs": [],
   "source": [
    "accuracy=accuracy_score(y_test,pred5)\n",
    "conmat=confusion_matrix(y_test,pred5)"
   ]
  },
  {
   "cell_type": "code",
   "execution_count": null,
   "id": "5f8cc9a0",
   "metadata": {},
   "outputs": [],
   "source": [
    "print(accuracy)"
   ]
  },
  {
   "cell_type": "code",
   "execution_count": null,
   "id": "0569e036",
   "metadata": {},
   "outputs": [],
   "source": [
    "\n",
    "from sklearn.metrics import r2_score\n",
    "r2=r2_score(y_test,pred)\n",
    "r2"
   ]
  },
  {
   "cell_type": "code",
   "execution_count": null,
   "id": "f25c5d17",
   "metadata": {},
   "outputs": [],
   "source": [
    "confusion_matrix(y_test,pred5)"
   ]
  },
  {
   "cell_type": "code",
   "execution_count": null,
   "id": "bc0c2028",
   "metadata": {},
   "outputs": [],
   "source": [
    "print(metrics.classification_report(y_test,pred))"
   ]
  },
  {
   "cell_type": "code",
   "execution_count": null,
   "id": "8cacebcc",
   "metadata": {},
   "outputs": [],
   "source": [
    "data"
   ]
  },
  {
   "cell_type": "markdown",
   "id": "934cf99e",
   "metadata": {},
   "source": [
    "# Test the model\n"
   ]
  },
  {
   "cell_type": "code",
   "execution_count": null,
   "id": "81650d56",
   "metadata": {},
   "outputs": [],
   "source": [
    "#Test the model\n",
    "new_data = np.array([[1 ,1 ,1 ,13,1 ,1 ,1 ,1 ,1 ,1 ,1 ,2 ,1 ,1 ,9]])  # Replace with your own values"
   ]
  },
  {
   "cell_type": "code",
   "execution_count": null,
   "id": "48bb4a93",
   "metadata": {},
   "outputs": [],
   "source": [
    "dt_classifier.predict([[1 ,1 ,1 ,13,1 ,1 ,1 ,1 ,1 ,1 ,1 ,2 ,1 ,1 ,9]])"
   ]
  },
  {
   "cell_type": "code",
   "execution_count": null,
   "id": "e39c9063",
   "metadata": {},
   "outputs": [],
   "source": [
    "data.tail"
   ]
  },
  {
   "cell_type": "code",
   "execution_count": null,
   "id": "16b7ee79",
   "metadata": {},
   "outputs": [],
   "source": [
    "dt_classifier.predict([[1 ,1 ,1 ,30,1 ,0 ,1 ,0 ,1 ,1 ,0 ,5 ,30 ,0 ,9]])"
   ]
  },
  {
   "cell_type": "code",
   "execution_count": null,
   "id": "41b18694",
   "metadata": {},
   "outputs": [],
   "source": [
    "dt_classifier .predict([[1 ,1 ,1 ,12 ,0 ,0 ,0 ,1 ,1 ,1 ,0 ,2 ,0 ,0 ,11]])"
   ]
  },
  {
   "cell_type": "code",
   "execution_count": null,
   "id": "ec9a4cde",
   "metadata": {},
   "outputs": [],
   "source": []
  }
 ],
 "metadata": {
  "kernelspec": {
   "display_name": "Python 3 (ipykernel)",
   "language": "python",
   "name": "python3"
  },
  "language_info": {
   "codemirror_mode": {
    "name": "ipython",
    "version": 3
   },
   "file_extension": ".py",
   "mimetype": "text/x-python",
   "name": "python",
   "nbconvert_exporter": "python",
   "pygments_lexer": "ipython3",
   "version": "3.10.9"
  }
 },
 "nbformat": 4,
 "nbformat_minor": 5
}
